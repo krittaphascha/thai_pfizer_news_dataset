{
  "nbformat": 4,
  "nbformat_minor": 0,
  "metadata": {
    "colab": {
      "provenance": [],
      "authorship_tag": "ABX9TyMhpK5wXGxM+rmTUG6OyosA",
      "include_colab_link": true
    },
    "kernelspec": {
      "name": "python3",
      "display_name": "Python 3"
    },
    "language_info": {
      "name": "python"
    }
  },
  "cells": [
    {
      "cell_type": "markdown",
      "metadata": {
        "id": "view-in-github",
        "colab_type": "text"
      },
      "source": [
        "<a href=\"https://colab.research.google.com/github/krittaphascha/thai_pfizer_news_dataset/blob/main/Pfizer_Vaccine_Data_scraper.ipynb\" target=\"_parent\"><img src=\"https://colab.research.google.com/assets/colab-badge.svg\" alt=\"Open In Colab\"/></a>"
      ]
    },
    {
      "cell_type": "code",
      "execution_count": null,
      "metadata": {
        "id": "6YUt_a4EACvI"
      },
      "outputs": [],
      "source": [
        "import pandas as pd\n",
        "import lxml, requests\n",
        "from bs4 import BeautifulSoup"
      ]
    },
    {
      "cell_type": "code",
      "source": [
        " def get_text_from_link(link):\n",
        "  try:\n",
        "    r = requests.get(link)\n",
        "    soup = BeautifulSoup(r.text, 'lxml')\n",
        "\n",
        "    section_content = soup.find('div', class_='section-content-details')\n",
        "    news_content = section_content.find('div', class_=\"news-description h6 text-dark p-3 px-lg-5 py-lg-3\")\n",
        "    paragraphs = news_content.find('p')\n",
        "    soup_p = BeautifulSoup(str(paragraphs), 'lxml')\n",
        "    text = soup_p.get_text()\n",
        "\n",
        "    return text\n",
        "\n",
        "  except Exception as e:\n",
        "    print(\"Error on this link: \" + ' ' + link + ' ' + str(e))\n",
        "\n",
        "def apply_to_df(df):\n",
        "  raw_df_dropna = df.dropna()\n",
        "  df_dropna = raw_df_dropna[['NewsTitle', 'Link_News', 'NewsDate']]\n",
        "  df_dropna['news_text'] = df_dropna['Link_News'].apply(get_text_from_link)\n",
        "\n",
        "  return df_dropna\n",
        "\n",
        "def save_to_csv(df):\n",
        "  dmy = df.loc[0, 'NewsDate']\n",
        "  d_m_y = dmy.split(r'/')\n",
        "  month = d_m_y[1]\n",
        "  year = d_m_y[2]\n",
        "\n",
        "  df_word_only = df[['news_text']]\n",
        "\n",
        "  file_path = f'{month}_{year}_textonly.csv'\n",
        "  df_word_only.to_csv(file_path)\n",
        "\n",
        "  print(\"Save successfully \"+ file_path)\n"
      ],
      "metadata": {
        "id": "FAQ5jXhmEevF"
      },
      "execution_count": null,
      "outputs": []
    },
    {
      "cell_type": "code",
      "source": [
        "def get_raw_df():\n",
        "  months = ['jan', 'feb', 'mar', 'april', 'may', 'jun', 'july', 'aug', 'sep', 'oct', 'nov', 'dec']\n",
        "  links = ['https://raw.githubusercontent.com/tigertictac/medical_nlp/main/pfizer_dataset/pfizer_april_2021.csv',\n",
        "           'https://raw.githubusercontent.com/tigertictac/medical_nlp/main/pfizer_dataset/pfizer_may_2021.csv',\n",
        "           'https://raw.githubusercontent.com/tigertictac/medical_nlp/main/pfizer_dataset/pfizer_june_2021.csv',\n",
        "           'https://raw.githubusercontent.com/tigertictac/medical_nlp/main/pfizer_dataset/pfizer_july_2021.csv',\n",
        "           'https://raw.githubusercontent.com/tigertictac/medical_nlp/main/pfizer_dataset/pfizer_august_2021.csv',\n",
        "           'https://raw.githubusercontent.com/tigertictac/medical_nlp/main/pfizer_dataset/pfizer_september_2021.csv',\n",
        "           'https://raw.githubusercontent.com/tigertictac/medical_nlp/main/pfizer_dataset/pfizer_oct_2021.csv',\n",
        "           'https://raw.githubusercontent.com/tigertictac/medical_nlp/main/pfizer_dataset/pfizer_nov_2021.csv',\n",
        "           'https://raw.githubusercontent.com/tigertictac/medical_nlp/main/pfizer_dataset/pfizer_dec_2021.csv',\n",
        "           'https://raw.githubusercontent.com/tigertictac/medical_nlp/main/pfizer_dataset/pfizer_jan_2022.csv',\n",
        "           ]\n",
        "  df_list = []\n",
        "\n",
        "  for link in links:\n",
        "    try:\n",
        "      raw_df = pd.read_csv(link, encoding='iso8859_11')\n",
        "      df_list.append(raw_df)\n",
        "\n",
        "    except None:\n",
        "      print(f\"No {link} data available.\")\n",
        "\n",
        "  return df_list\n"
      ],
      "metadata": {
        "id": "e2nmffPrwXgR"
      },
      "execution_count": null,
      "outputs": []
    },
    {
      "cell_type": "code",
      "source": [
        "df_list = get_raw_df()\n",
        "for df in df_list:\n",
        "  df_applied = apply_to_df(df)\n",
        "  save_to_csv(df_applied)"
      ],
      "metadata": {
        "colab": {
          "base_uri": "https://localhost:8080/"
        },
        "id": "ONBx4sevwZT8",
        "outputId": "eccd917f-9bbe-4682-a846-0225597add5f"
      },
      "execution_count": null,
      "outputs": [
        {
          "output_type": "stream",
          "name": "stderr",
          "text": [
            "<ipython-input-5-edebb79c0843>:20: SettingWithCopyWarning: \n",
            "A value is trying to be set on a copy of a slice from a DataFrame.\n",
            "Try using .loc[row_indexer,col_indexer] = value instead\n",
            "\n",
            "See the caveats in the documentation: https://pandas.pydata.org/pandas-docs/stable/user_guide/indexing.html#returning-a-view-versus-a-copy\n",
            "  df_dropna['news_text'] = df_dropna['Link_News'].apply(get_text_from_link)\n"
          ]
        },
        {
          "output_type": "stream",
          "name": "stdout",
          "text": [
            "Save successfully 4_2021_textonly.csv\n"
          ]
        },
        {
          "output_type": "stream",
          "name": "stderr",
          "text": [
            "<ipython-input-5-edebb79c0843>:20: SettingWithCopyWarning: \n",
            "A value is trying to be set on a copy of a slice from a DataFrame.\n",
            "Try using .loc[row_indexer,col_indexer] = value instead\n",
            "\n",
            "See the caveats in the documentation: https://pandas.pydata.org/pandas-docs/stable/user_guide/indexing.html#returning-a-view-versus-a-copy\n",
            "  df_dropna['news_text'] = df_dropna['Link_News'].apply(get_text_from_link)\n"
          ]
        },
        {
          "output_type": "stream",
          "name": "stdout",
          "text": [
            "Save successfully 5_2021_textonly.csv\n"
          ]
        },
        {
          "output_type": "stream",
          "name": "stderr",
          "text": [
            "<ipython-input-5-edebb79c0843>:20: SettingWithCopyWarning: \n",
            "A value is trying to be set on a copy of a slice from a DataFrame.\n",
            "Try using .loc[row_indexer,col_indexer] = value instead\n",
            "\n",
            "See the caveats in the documentation: https://pandas.pydata.org/pandas-docs/stable/user_guide/indexing.html#returning-a-view-versus-a-copy\n",
            "  df_dropna['news_text'] = df_dropna['Link_News'].apply(get_text_from_link)\n"
          ]
        },
        {
          "output_type": "stream",
          "name": "stdout",
          "text": [
            "Save successfully 6_2021_textonly.csv\n"
          ]
        },
        {
          "output_type": "stream",
          "name": "stderr",
          "text": [
            "<ipython-input-5-edebb79c0843>:20: SettingWithCopyWarning: \n",
            "A value is trying to be set on a copy of a slice from a DataFrame.\n",
            "Try using .loc[row_indexer,col_indexer] = value instead\n",
            "\n",
            "See the caveats in the documentation: https://pandas.pydata.org/pandas-docs/stable/user_guide/indexing.html#returning-a-view-versus-a-copy\n",
            "  df_dropna['news_text'] = df_dropna['Link_News'].apply(get_text_from_link)\n"
          ]
        },
        {
          "output_type": "stream",
          "name": "stdout",
          "text": [
            "Save successfully 7_2021_textonly.csv\n"
          ]
        },
        {
          "output_type": "stream",
          "name": "stderr",
          "text": [
            "<ipython-input-5-edebb79c0843>:20: SettingWithCopyWarning: \n",
            "A value is trying to be set on a copy of a slice from a DataFrame.\n",
            "Try using .loc[row_indexer,col_indexer] = value instead\n",
            "\n",
            "See the caveats in the documentation: https://pandas.pydata.org/pandas-docs/stable/user_guide/indexing.html#returning-a-view-versus-a-copy\n",
            "  df_dropna['news_text'] = df_dropna['Link_News'].apply(get_text_from_link)\n"
          ]
        },
        {
          "output_type": "stream",
          "name": "stdout",
          "text": [
            "Save successfully 8_2021_textonly.csv\n",
            "Error on this link:  https://thainews.prd.go.th/th/news/detail/TCATG210918185233666 'NoneType' object has no attribute 'find'\n",
            "Error on this link:  https://thainews.prd.go.th/th/news/detail/TCATG210919091050724 'NoneType' object has no attribute 'find'\n",
            "Error on this link:  https://thainews.prd.go.th/th/news/detail/TCATG210919175208870 'NoneType' object has no attribute 'find'\n",
            "Error on this link:  https://thainews.prd.go.th/th/news/detail/TCATG210920091619910 'NoneType' object has no attribute 'find'\n",
            "Error on this link:  https://thainews.prd.go.th/th/news/detail/TCATG210920123633007 'NoneType' object has no attribute 'find'\n",
            "Error on this link:  https://thainews.prd.go.th/th/news/detail/TCATG210920145916107 'NoneType' object has no attribute 'find'\n"
          ]
        },
        {
          "output_type": "stream",
          "name": "stderr",
          "text": [
            "<ipython-input-5-edebb79c0843>:20: SettingWithCopyWarning: \n",
            "A value is trying to be set on a copy of a slice from a DataFrame.\n",
            "Try using .loc[row_indexer,col_indexer] = value instead\n",
            "\n",
            "See the caveats in the documentation: https://pandas.pydata.org/pandas-docs/stable/user_guide/indexing.html#returning-a-view-versus-a-copy\n",
            "  df_dropna['news_text'] = df_dropna['Link_News'].apply(get_text_from_link)\n"
          ]
        },
        {
          "output_type": "stream",
          "name": "stdout",
          "text": [
            "Save successfully 9_2021_textonly.csv\n"
          ]
        },
        {
          "output_type": "stream",
          "name": "stderr",
          "text": [
            "<ipython-input-5-edebb79c0843>:20: SettingWithCopyWarning: \n",
            "A value is trying to be set on a copy of a slice from a DataFrame.\n",
            "Try using .loc[row_indexer,col_indexer] = value instead\n",
            "\n",
            "See the caveats in the documentation: https://pandas.pydata.org/pandas-docs/stable/user_guide/indexing.html#returning-a-view-versus-a-copy\n",
            "  df_dropna['news_text'] = df_dropna['Link_News'].apply(get_text_from_link)\n"
          ]
        },
        {
          "output_type": "stream",
          "name": "stdout",
          "text": [
            "Save successfully 10_2021_textonly.csv\n"
          ]
        },
        {
          "output_type": "stream",
          "name": "stderr",
          "text": [
            "<ipython-input-5-edebb79c0843>:20: SettingWithCopyWarning: \n",
            "A value is trying to be set on a copy of a slice from a DataFrame.\n",
            "Try using .loc[row_indexer,col_indexer] = value instead\n",
            "\n",
            "See the caveats in the documentation: https://pandas.pydata.org/pandas-docs/stable/user_guide/indexing.html#returning-a-view-versus-a-copy\n",
            "  df_dropna['news_text'] = df_dropna['Link_News'].apply(get_text_from_link)\n"
          ]
        },
        {
          "output_type": "stream",
          "name": "stdout",
          "text": [
            "Save successfully 11_2021_textonly.csv\n",
            "Error on this link:  https://thainews.prd.go.th/th/news/detail/TCATG211227084712996 'NoneType' object has no attribute 'find'\n",
            "Error on this link:  https://thainews.prd.go.th/th/news/detail/TCATG211227103141038 'NoneType' object has no attribute 'find'\n",
            "Error on this link:  https://thainews.prd.go.th/th/news/detail/TCATG211227135617165 'NoneType' object has no attribute 'find'\n",
            "Error on this link:  https://thainews.prd.go.th/th/news/detail/TCATG211227154331282 'NoneType' object has no attribute 'find'\n",
            "Error on this link:  https://thainews.prd.go.th/th/news/detail/TCATG211227193418459 'NoneType' object has no attribute 'find'\n",
            "Error on this link:  https://thainews.prd.go.th/th/news/detail/TCATG211228072440501 'NoneType' object has no attribute 'find'\n"
          ]
        },
        {
          "output_type": "stream",
          "name": "stderr",
          "text": [
            "<ipython-input-5-edebb79c0843>:20: SettingWithCopyWarning: \n",
            "A value is trying to be set on a copy of a slice from a DataFrame.\n",
            "Try using .loc[row_indexer,col_indexer] = value instead\n",
            "\n",
            "See the caveats in the documentation: https://pandas.pydata.org/pandas-docs/stable/user_guide/indexing.html#returning-a-view-versus-a-copy\n",
            "  df_dropna['news_text'] = df_dropna['Link_News'].apply(get_text_from_link)\n"
          ]
        },
        {
          "output_type": "stream",
          "name": "stdout",
          "text": [
            "Save successfully 12_2021_textonly.csv\n",
            "Save successfully 1_2022_textonly.csv\n"
          ]
        },
        {
          "output_type": "stream",
          "name": "stderr",
          "text": [
            "<ipython-input-5-edebb79c0843>:20: SettingWithCopyWarning: \n",
            "A value is trying to be set on a copy of a slice from a DataFrame.\n",
            "Try using .loc[row_indexer,col_indexer] = value instead\n",
            "\n",
            "See the caveats in the documentation: https://pandas.pydata.org/pandas-docs/stable/user_guide/indexing.html#returning-a-view-versus-a-copy\n",
            "  df_dropna['news_text'] = df_dropna['Link_News'].apply(get_text_from_link)\n"
          ]
        }
      ]
    },
    {
      "cell_type": "code",
      "source": [
        "df = pd.read_csv('/content/12_2021_textonly.csv')\n",
        "df.head()"
      ],
      "metadata": {
        "colab": {
          "base_uri": "https://localhost:8080/",
          "height": 411
        },
        "id": "D2KppiG0uBWq",
        "outputId": "ec371543-8212-4490-ddb4-c7e4a6b6447a"
      },
      "execution_count": null,
      "outputs": [
        {
          "output_type": "execute_result",
          "data": {
            "text/plain": [
              "   Unnamed: 0                                          news_text\n",
              "0           0  ยะลา เปิดจองวัคซีนโมเดอร์นา สำหรับประชาชน 3 กล...\n",
              "1           1  นายแพทย์พัลลภ ยอดศิรจินดา นายแพทย์สาธารณสุขจัง...\n",
              "2           2  \"รพ.ยะลา\" เปิดจองคิวฉีดวัคซีน \"โมเดอร์น่า\" สำห...\n",
              "3           3  (1 ธ.ค.64) นายเสถียร เจริญเหรียญ ผู้ว่าราชการจ...\n",
              "4           4   วันที่ 1 ธ.ค. 2564 เวลา 08.30 น. นายชลธี ยังต..."
            ],
            "text/html": [
              "\n",
              "  <div id=\"df-cfd52422-91b4-4a97-a710-698690598b8a\">\n",
              "    <div class=\"colab-df-container\">\n",
              "      <div>\n",
              "<style scoped>\n",
              "    .dataframe tbody tr th:only-of-type {\n",
              "        vertical-align: middle;\n",
              "    }\n",
              "\n",
              "    .dataframe tbody tr th {\n",
              "        vertical-align: top;\n",
              "    }\n",
              "\n",
              "    .dataframe thead th {\n",
              "        text-align: right;\n",
              "    }\n",
              "</style>\n",
              "<table border=\"1\" class=\"dataframe\">\n",
              "  <thead>\n",
              "    <tr style=\"text-align: right;\">\n",
              "      <th></th>\n",
              "      <th>Unnamed: 0</th>\n",
              "      <th>news_text</th>\n",
              "    </tr>\n",
              "  </thead>\n",
              "  <tbody>\n",
              "    <tr>\n",
              "      <th>0</th>\n",
              "      <td>0</td>\n",
              "      <td>ยะลา เปิดจองวัคซีนโมเดอร์นา สำหรับประชาชน 3 กล...</td>\n",
              "    </tr>\n",
              "    <tr>\n",
              "      <th>1</th>\n",
              "      <td>1</td>\n",
              "      <td>นายแพทย์พัลลภ ยอดศิรจินดา นายแพทย์สาธารณสุขจัง...</td>\n",
              "    </tr>\n",
              "    <tr>\n",
              "      <th>2</th>\n",
              "      <td>2</td>\n",
              "      <td>\"รพ.ยะลา\" เปิดจองคิวฉีดวัคซีน \"โมเดอร์น่า\" สำห...</td>\n",
              "    </tr>\n",
              "    <tr>\n",
              "      <th>3</th>\n",
              "      <td>3</td>\n",
              "      <td>(1 ธ.ค.64) นายเสถียร เจริญเหรียญ ผู้ว่าราชการจ...</td>\n",
              "    </tr>\n",
              "    <tr>\n",
              "      <th>4</th>\n",
              "      <td>4</td>\n",
              "      <td>วันที่ 1 ธ.ค. 2564 เวลา 08.30 น. นายชลธี ยังต...</td>\n",
              "    </tr>\n",
              "  </tbody>\n",
              "</table>\n",
              "</div>\n",
              "      <button class=\"colab-df-convert\" onclick=\"convertToInteractive('df-cfd52422-91b4-4a97-a710-698690598b8a')\"\n",
              "              title=\"Convert this dataframe to an interactive table.\"\n",
              "              style=\"display:none;\">\n",
              "        \n",
              "  <svg xmlns=\"http://www.w3.org/2000/svg\" height=\"24px\"viewBox=\"0 0 24 24\"\n",
              "       width=\"24px\">\n",
              "    <path d=\"M0 0h24v24H0V0z\" fill=\"none\"/>\n",
              "    <path d=\"M18.56 5.44l.94 2.06.94-2.06 2.06-.94-2.06-.94-.94-2.06-.94 2.06-2.06.94zm-11 1L8.5 8.5l.94-2.06 2.06-.94-2.06-.94L8.5 2.5l-.94 2.06-2.06.94zm10 10l.94 2.06.94-2.06 2.06-.94-2.06-.94-.94-2.06-.94 2.06-2.06.94z\"/><path d=\"M17.41 7.96l-1.37-1.37c-.4-.4-.92-.59-1.43-.59-.52 0-1.04.2-1.43.59L10.3 9.45l-7.72 7.72c-.78.78-.78 2.05 0 2.83L4 21.41c.39.39.9.59 1.41.59.51 0 1.02-.2 1.41-.59l7.78-7.78 2.81-2.81c.8-.78.8-2.07 0-2.86zM5.41 20L4 18.59l7.72-7.72 1.47 1.35L5.41 20z\"/>\n",
              "  </svg>\n",
              "      </button>\n",
              "      \n",
              "  <style>\n",
              "    .colab-df-container {\n",
              "      display:flex;\n",
              "      flex-wrap:wrap;\n",
              "      gap: 12px;\n",
              "    }\n",
              "\n",
              "    .colab-df-convert {\n",
              "      background-color: #E8F0FE;\n",
              "      border: none;\n",
              "      border-radius: 50%;\n",
              "      cursor: pointer;\n",
              "      display: none;\n",
              "      fill: #1967D2;\n",
              "      height: 32px;\n",
              "      padding: 0 0 0 0;\n",
              "      width: 32px;\n",
              "    }\n",
              "\n",
              "    .colab-df-convert:hover {\n",
              "      background-color: #E2EBFA;\n",
              "      box-shadow: 0px 1px 2px rgba(60, 64, 67, 0.3), 0px 1px 3px 1px rgba(60, 64, 67, 0.15);\n",
              "      fill: #174EA6;\n",
              "    }\n",
              "\n",
              "    [theme=dark] .colab-df-convert {\n",
              "      background-color: #3B4455;\n",
              "      fill: #D2E3FC;\n",
              "    }\n",
              "\n",
              "    [theme=dark] .colab-df-convert:hover {\n",
              "      background-color: #434B5C;\n",
              "      box-shadow: 0px 1px 3px 1px rgba(0, 0, 0, 0.15);\n",
              "      filter: drop-shadow(0px 1px 2px rgba(0, 0, 0, 0.3));\n",
              "      fill: #FFFFFF;\n",
              "    }\n",
              "  </style>\n",
              "\n",
              "      <script>\n",
              "        const buttonEl =\n",
              "          document.querySelector('#df-cfd52422-91b4-4a97-a710-698690598b8a button.colab-df-convert');\n",
              "        buttonEl.style.display =\n",
              "          google.colab.kernel.accessAllowed ? 'block' : 'none';\n",
              "\n",
              "        async function convertToInteractive(key) {\n",
              "          const element = document.querySelector('#df-cfd52422-91b4-4a97-a710-698690598b8a');\n",
              "          const dataTable =\n",
              "            await google.colab.kernel.invokeFunction('convertToInteractive',\n",
              "                                                     [key], {});\n",
              "          if (!dataTable) return;\n",
              "\n",
              "          const docLinkHtml = 'Like what you see? Visit the ' +\n",
              "            '<a target=\"_blank\" href=https://colab.research.google.com/notebooks/data_table.ipynb>data table notebook</a>'\n",
              "            + ' to learn more about interactive tables.';\n",
              "          element.innerHTML = '';\n",
              "          dataTable['output_type'] = 'display_data';\n",
              "          await google.colab.output.renderOutput(dataTable, element);\n",
              "          const docLink = document.createElement('div');\n",
              "          docLink.innerHTML = docLinkHtml;\n",
              "          element.appendChild(docLink);\n",
              "        }\n",
              "      </script>\n",
              "    </div>\n",
              "  </div>\n",
              "  "
            ]
          },
          "metadata": {},
          "execution_count": 9
        }
      ]
    },
    {
      "cell_type": "code",
      "source": [
        "import os\n",
        "def strip_string(string):\n",
        "  string = str(string)\n",
        "  return string.strip()\n",
        "\n",
        "def clean_csv_data(path):\n",
        "  df = pd.read_csv(path)\n",
        "  df.dropna(inplace=True)\n",
        "  df['news_text'] = df['news_text'].str.strip()\n",
        "  df['word_count'] = df['news_text'].apply(lambda x: len(x))\n",
        "  df = df[df['word_count'] > 60]\n",
        "  df = df[['news_text']]\n",
        "\n",
        "  stem_name = os.path.splitext(path)[0]\n",
        "\n",
        "  # df.to_csv(stem_name + '_clean.csv')\n",
        "  print(f\"Successfully cleaned file {stem_name} and saved!\")\n",
        "\n",
        "  return df"
      ],
      "metadata": {
        "id": "aRbkHhMw4VA7"
      },
      "execution_count": null,
      "outputs": []
    },
    {
      "cell_type": "code",
      "source": [
        "dir = '/content'\n",
        "\n",
        "merge_df = pd.DataFrame()\n",
        "\n",
        "for file in os.listdir(dir):\n",
        "  string = str(file)\n",
        "  if file[0].isdigit():\n",
        "    sub_df = clean_csv_data(file)\n",
        "    merge_df = pd.concat([merge_df, sub_df], ignore_index=True)\n",
        "\n",
        "merge_df.to_csv('pfizer_dataset.csv')\n",
        "print('Done')"
      ],
      "metadata": {
        "colab": {
          "base_uri": "https://localhost:8080/"
        },
        "id": "O4mU4ZCS5DZa",
        "outputId": "58dfec31-3720-4bf3-b6ab-defed30c8923"
      },
      "execution_count": null,
      "outputs": [
        {
          "output_type": "stream",
          "name": "stdout",
          "text": [
            "Successfully cleaned file 9_2021_textonly and saved!\n",
            "Successfully cleaned file 4_2021_textonly and saved!\n",
            "Successfully cleaned file 7_2021_textonly and saved!\n",
            "Successfully cleaned file 8_2021_textonly and saved!\n",
            "Successfully cleaned file 5_2021_textonly and saved!\n",
            "Successfully cleaned file 10_2021_textonly and saved!\n",
            "Successfully cleaned file 11_2021_textonly and saved!\n",
            "Successfully cleaned file 12_2021_textonly and saved!\n",
            "Successfully cleaned file 1_2022_textonly and saved!\n",
            "Successfully cleaned file 6_2021_textonly and saved!\n",
            "Done\n"
          ]
        }
      ]
    },
    {
      "cell_type": "code",
      "source": [],
      "metadata": {
        "id": "puPIlw5D5Jn4"
      },
      "execution_count": null,
      "outputs": []
    }
  ]
}